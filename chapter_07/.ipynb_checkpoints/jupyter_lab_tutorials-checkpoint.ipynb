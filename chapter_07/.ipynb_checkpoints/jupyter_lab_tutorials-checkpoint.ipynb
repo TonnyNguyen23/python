{
 "cells": [
  {
   "cell_type": "code",
   "execution_count": 1,
   "id": "2747e915-7f9a-4baa-b38e-86052e7c8d20",
   "metadata": {},
   "outputs": [
    {
     "name": "stdout",
     "output_type": "stream",
     "text": [
      "5\n"
     ]
    }
   ],
   "source": [
    "a = 5\n",
    "print(a);"
   ]
  },
  {
   "cell_type": "code",
   "execution_count": 2,
   "id": "2341828f-4db0-4cc2-b119-715f363beb50",
   "metadata": {},
   "outputs": [
    {
     "name": "stdout",
     "output_type": "stream",
     "text": [
      "Have a nice day!\n"
     ]
    }
   ],
   "source": [
    "print(\"Have a nice day!\")"
   ]
  },
  {
   "cell_type": "code",
   "execution_count": 6,
   "id": "bbe33d7f-7586-44b3-b3a7-3992b8019b9f",
   "metadata": {},
   "outputs": [],
   "source": [
    "class SavingsAccount(object):\n",
    "    \"\"\"This class represents a savings account\n",
    "    with the owner's name, PIN, and balance.\"\"\"\n",
    "\n",
    "    RATE = 0.02  # Single rate for all accounts\n",
    "\n",
    "    def __init__(self, name, pin, balance=0.0):\n",
    "        self.name = name\n",
    "        self.pin = pin\n",
    "        self.balance = balance\n",
    "\n",
    "    def __str__(self):\n",
    "        \"\"\"Returns the string rep.\"\"\"\n",
    "        result = \"Name: \" + self.name + \"\\n\"\n",
    "        result += \"PIN: \" + self.pin + \"\\n\"\n",
    "        result += \"Balance: \" + str(self.balance)\n",
    "        return result\n",
    "\n",
    "    def getBalance(self):\n",
    "        \"\"\"Returns the current balance.\"\"\"\n",
    "        return self.balance\n",
    "\n",
    "    def getName(self):\n",
    "        \"\"\"Returns the current name.\"\"\"\n",
    "        return self.name\n",
    "\n",
    "    def getPin(self):\n",
    "        \"\"\"Returns the current pin.\"\"\"\n",
    "        return self.pin\n",
    "\n",
    "    def deposit(self, amount):\n",
    "        \"\"\"Deposits the given amount and returns None.\"\"\"\n",
    "        self.balance += amount\n",
    "        return None\n",
    "\n",
    "    def withdraw(self, amount):\n",
    "        \"\"\"Withdraws the given amount.\n",
    "        Returns None if successful, or an\n",
    "        error message if unsuccessful.\"\"\"\n",
    "        if amount < 0:\n",
    "            return \"Amount must be >= 0\"\n",
    "        elif self.balance < amount:\n",
    "            return \"Insufficient funds\"\n",
    "        else:\n",
    "            self.balance -= amount\n",
    "            return None\n",
    "\n",
    "    def computeInterest(self):\n",
    "        \"\"\"Computes, deposits, and returns the interest.\"\"\"\n",
    "        interest = self.balance * SavingsAccount.RATE\n",
    "        self.deposit(interest)\n",
    "        return interest\n",
    "\n",
    "\n",
    "\n",
    "class Bank(object):\n",
    "    def __init__(self):\n",
    "        self.accounts = {}\n",
    "\n",
    "    def __str__(self):\n",
    "        \"\"\"Return the string rep of the entire bank.\"\"\"\n",
    "        \n",
    "        return \"\\n\".join(map(str, self.accounts.values()))\n",
    "\n",
    "    def makeKey(self, name, pin):\n",
    "        \"\"\"Makes and returns a key from name and pin.\"\"\"\n",
    "        return name + \"/\" + pin\n",
    "\n",
    "    def add(self, account):\n",
    "        \"\"\"Inserts an account with name and pin as a key.\"\"\"\n",
    "        key = self.makeKey(account.getName(), account.getPin())\n",
    "        self.accounts[key] = account\n",
    "\n",
    "    def remove(self, name, pin):\n",
    "        \"\"\"Removes an account with name and pin as a key.\"\"\"\n",
    "        key = self.makeKey(name, pin)\n",
    "        return self.accounts.pop(key, None)\n",
    "\n",
    "    def get(self, name, pin):\n",
    "        \"\"\"Returns an account with name and pin as a key\n",
    "        or None if not found.\"\"\"\n",
    "        key = self.makeKey(name, pin)\n",
    "        return self.accounts.get(key, None)\n",
    "\n",
    "    def computeInterest(self):\n",
    "        \"\"\"Computes interest for each account and\n",
    "        returns the total.\"\"\"\n",
    "        total = 0.0\n",
    "        for account in self.accounts.values():\n",
    "            total += account.computelnterest()\n",
    "        return total"
   ]
  },
  {
   "cell_type": "code",
   "execution_count": null,
   "id": "6fce40ce-dbd1-46fe-92f2-d5498fa3350b",
   "metadata": {},
   "outputs": [],
   "source": []
  }
 ],
 "metadata": {
  "kernelspec": {
   "display_name": "Python 3",
   "language": "python",
   "name": "python3"
  },
  "language_info": {
   "codemirror_mode": {
    "name": "ipython",
    "version": 3
   },
   "file_extension": ".py",
   "mimetype": "text/x-python",
   "name": "python",
   "nbconvert_exporter": "python",
   "pygments_lexer": "ipython3",
   "version": "3.8.8"
  }
 },
 "nbformat": 4,
 "nbformat_minor": 5
}
